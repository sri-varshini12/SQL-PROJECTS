%%sql
create database spotify_db;


%%sql
use spotify_db;
CREATE TABLE IF NOT EXISTS spotify_tracks (
id INT AUTO_INCREMENT PRIMARY KEY,
track_name VARCHAR(255),
artist VARCHAR(255),
album VARCHAR(255),
popularity INT,
duration_minutes FLOAT
)


%%sql
select * from spotify_tracks;


%%sql
select artist,album,popularity
FROM spotify_tracks
ORDER BY popularity DESC;


%%sql
select AVG(popularity) AS avgpopularity
FROM spotify_tracks;


%%sql
select artist,album,popularity
FROM spotify_tracks
WHERE duration_minutes>3.0;


%%sql
SELECT 
    CASE 
        WHEN popularity >= 80 THEN 'Very Popular'
        WHEN popularity >= 50 THEN 'Popular'
        ELSE 'Less Popular'
    END AS popularity_range,
    COUNT(*) AS track_count
FROM spotify_tracks
GROUP BY popularity_range;


%%sql
select * from spotify_tracks;


%%sql
select * from spotify_tracks;
